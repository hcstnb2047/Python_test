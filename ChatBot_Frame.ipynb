{
  "nbformat": 4,
  "nbformat_minor": 0,
  "metadata": {
    "colab": {
      "name": "ChatBot_Frame.ipynb",
      "provenance": []
    },
    "kernelspec": {
      "display_name": "Python 3",
      "language": "python",
      "name": "python3"
    },
    "language_info": {
      "codemirror_mode": {
        "name": "ipython",
        "version": 3
      },
      "file_extension": ".py",
      "mimetype": "text/x-python",
      "name": "python",
      "nbconvert_exporter": "python",
      "pygments_lexer": "ipython3",
      "version": "3.8.3"
    }
  },
  "cells": [
    {
      "cell_type": "code",
      "metadata": {
        "id": "7vOPg3mhdCHL"
      },
      "source": [
        "def func_control(message):\n",
        "    \"\"\"機能の制御を行う\n",
        "    　Args:\n",
        "        message (str): 処理対象のメッセージ.\n",
        "        \n",
        "      Returns:\n",
        "        処理結果(bool)：True 機能実行中, False 機能が実行されていない.\n",
        "        \n",
        "    \"\"\"\n",
        "    # TODO 全関数で共通して使う変数の定義（機能追加のたび修正）\n",
        "    global calc_flg\n",
        "    global payroll_flg\n",
        "    global hitgame_flg\n",
        "    global covid19_flg\n",
        "    \n",
        "    # TODO 機能分岐（機能拡張エリア）\n",
        "    if calc_flg:\n",
        "        # 計算処理の実行\n",
        "        calc_add(message)\n",
        "        return True\n",
        "    if payroll_flg:\n",
        "        # 計算処理の実行\n",
        "        payroll(message)\n",
        "        return True\n",
        "    if hitgame_flg:\n",
        "        # 計算処理の実行\n",
        "        hitgame(message)\n",
        "        return True\n",
        "    if covid19_flg:\n",
        "        # 計算処理の実行\n",
        "        covid19(message)\n",
        "        return True\n",
        "\n",
        "    return False"
      ],
      "execution_count": null,
      "outputs": []
    },
    {
      "cell_type": "code",
      "metadata": {
        "id": "Tzy95S-EdCHL"
      },
      "source": [
        "def calc_add(message):\n",
        "    \"\"\"入力された値をリストに追加し、2つの値の足し算を行う\n",
        "    \n",
        "      Args:\n",
        "        message (str): 計算対象の値.\n",
        "    \n",
        "      Raises：\n",
        "        ValueError: 数値以外の値が入力された場合.\n",
        "    \"\"\"\n",
        "    # 全関数で共通して使う変数の定義\n",
        "    global calc_flg, num_list\n",
        "    try:\n",
        "        num_list.append(int(message))\n",
        "    \n",
        "        # 入力データが2つになった場合、足し算を行う\n",
        "        if len(num_list) == 2:\n",
        "            ans = num_list[0] + num_list[1]\n",
        "            answer[\"text\"] = \"合計は、{0}です。\".format(ans)\n",
        "            num_list.clear()\n",
        "            calc_flg = False\n",
        "        else:\n",
        "            answer[\"text\"] = \"もう一つの値は？\"\n",
        "    except ValueError as e:\n",
        "        error_console(e)\n",
        "        "
      ],
      "execution_count": null,
      "outputs": []
    },
    {
      "cell_type": "code",
      "metadata": {
        "id": "wC6RUP6xJ3it"
      },
      "source": [
        "def payroll(message):\n",
        "    \"\"\"時給と働いた時間を入力させ、リストに追加する\n",
        "        リストのデータが\n",
        "\n",
        "        2つになった場合、「時給」×「働いた時間」の結果を出力する\n",
        "    \n",
        "      Args:\n",
        "        message (str): 計算対象の値.\n",
        "    \n",
        "      Raises：\n",
        "        ValueError: 数値以外の値が入力された場合.\n",
        "    \"\"\"\n",
        "    # 全関数で共通して使う変数の定義\n",
        "    global payroll_flg, num_list\n",
        "    try:\n",
        "        num_list.append(int(message))\n",
        "        # 入力データが2つになった場合、足し算を行う\n",
        "        if len(num_list) == 2:\n",
        "            ans = num_list[0] * num_list[1]\n",
        "            answer[\"text\"] = \"合計は、{0}円です。\".format(ans)\n",
        "            num_list.clear()\n",
        "            payroll_flg = False\n",
        "        else:\n",
        "            answer[\"text\"] = \"何時間働いたんか書けや\"\n",
        "    except ValueError as e:\n",
        "        error_console(e)"
      ],
      "execution_count": null,
      "outputs": []
    },
    {
      "cell_type": "code",
      "metadata": {
        "id": "EAb_aANGJ3iu"
      },
      "source": [
        "import random as ran\n",
        "def choice_word():\n",
        "    \"\"\"リストからランダムに選んだ名言（笑）を返す\n",
        "    \n",
        "      Args:\n",
        "        message (str): 計算対象の値.\n",
        "    \n",
        "      Raises：\n",
        "    \"\"\"\n",
        "    word_list = ['そんなもんに頼るな'\n",
        "                 ,'うるせえ働け'\n",
        "                 ,'まずやることやれよ'\n",
        "                ,'自分で考えな'\n",
        "                ,'名言なんざしるか雑魚']\n",
        "    ret ='【名言】'+ran.choice(word_list)\n",
        "    return  ret"
      ],
      "execution_count": null,
      "outputs": []
    },
    {
      "cell_type": "code",
      "metadata": {
        "id": "pSS20FnKJ3iu"
      },
      "source": [
        "import random\n",
        "def hitgame(message):\n",
        "    \"\"\"数当ゲーム\n",
        "    \n",
        "      Args:\n",
        "        message (str): 計算対象の値.\n",
        "    \n",
        "      Raises：\n",
        "    \"\"\"\n",
        "    global rand,hitgame_cnt\n",
        "    hitgame_cnt += 1\n",
        "    try:\n",
        "        num = int(message)\n",
        "    \n",
        "        \n",
        "        if num > rand:\n",
        "            answer[\"text\"] = \"デカいんじゃボケ\"\n",
        "        elif num < rand:\n",
        "            answer[\"text\"] = \"小さいんじゃボケ\"\n",
        "        elif num == rand:\n",
        "            answer[\"text\"] = \"正解！{0}回かかってやんのダサ\".format(hitgame_cnt)\n",
        "            hitgame_cnt = 0\n",
        "            hitgame_flg = False\n",
        "        else:\n",
        "            answer[\"text\"] = \"がちゃがちゃ\"\n",
        "    except ValueError as e:\n",
        "        error_console(e)\n",
        "        \n",
        "def num_make():\n",
        "    return random.randint(1,100)"
      ],
      "execution_count": null,
      "outputs": []
    },
    {
      "cell_type": "code",
      "metadata": {
        "id": "uS_jt3nxJ3iv"
      },
      "source": [
        "# 指定した場所の感染者数を出力するプログラム\n",
        "import requests\n",
        "import json\n",
        "def covid19(message):\n",
        "    global covid19_flg\n",
        "    cases_date= ''\n",
        "    cases = ''\n",
        "    name=message\n",
        "\n",
        "    url = \"https://covid19-japan-web-api.now.sh/api/v1/prefectures\"\n",
        "\n",
        "    r = requests.get(url)\n",
        "    jsonData = r.json()\n",
        "    # print(jsonData)\n",
        "    for dic in jsonData:\n",
        "        if dic['name_ja'] in name:\n",
        "            cases_date = dic['last_updated']['cases_date']\n",
        "            cases = dic['cases']\n",
        "    answer[\"text\"] = '{0}時点での\\n{1}の感染者数は、\\n{2}です'.format(cases_date,name,cases)\n",
        "    covid19_flg = False"
      ],
      "execution_count": null,
      "outputs": []
    },
    {
      "cell_type": "code",
      "metadata": {
        "id": "VCJphA1WJ3iw"
      },
      "source": [
        "def error_console(e):\n",
        "    answer[\"text\"] = \"数字以外入れんなや\"\n",
        "    global calc_flg,payroll_flg,hitgame_flg\n",
        "    calc_flg = False\n",
        "    payroll_flg = False\n",
        "    hitgame_flg = False\n",
        "    window.update()\n",
        "    sleep(2)\n",
        "    canvas.itemconfig(\"ai-bot\", image=img_list[0])\n",
        "    answer[\"text\"] = \"なんかいえや\"\n",
        "    print(e)"
      ],
      "execution_count": null,
      "outputs": []
    },
    {
      "cell_type": "code",
      "metadata": {
        "id": "dx7GhR1idCHL"
      },
      "source": [
        "def chat_control(message):\n",
        "    \"\"\"チャットの制御を行う\n",
        "    \n",
        "      Args:\n",
        "        message (str): 処理対象のメッセージ.\n",
        "    \n",
        "    \"\"\"\n",
        "    # TODO 全関数で共通して使う変数の定義（機能追加のたび修正）\n",
        "    global calc_flg, payroll_flg,hitgame_flg,covid19_flg\n",
        "    \n",
        "    # TODO メッセージ分岐（チャット拡張エリア）\n",
        "    if 'おはよう' in message:\n",
        "        canvas.itemconfig('ai-bot',image=img_list[1])\n",
        "        answer['text'] = 'おはよう！！！！！'\n",
        "    elif 'ゆるさない' in message or '許さない' in message:\n",
        "        canvas.itemconfig('ai-bot',image=img_list[2])\n",
        "        answer['text'] = 'しつれいしました！！！！！'\n",
        "    elif \"足し算\" in message or 'たしざん' in message:\n",
        "        canvas.itemconfig(\"ai-bot\", image=img_list[0])\n",
        "        answer[\"text\"] = \"足したい値を入力してください\"\n",
        "        calc_flg = True\n",
        "    elif \"給料\" in message or 'きゅうりょう' in message:\n",
        "        canvas.itemconfig(\"ai-bot\", image=img_list[0])\n",
        "        answer[\"text\"]=\"おめぇ時給いくらよ？\"\n",
        "        payroll_flg = True\n",
        "    elif \"名言\" in message or 'めいげん' in message:\n",
        "        canvas.itemconfig(\"ai-bot\", image=img_list[0])\n",
        "        answer[\"text\"]=choice_word()\n",
        "    elif \"数当\" in message or 'かずあて' in message:\n",
        "        canvas.itemconfig(\"ai-bot\", image=img_list[0])\n",
        "        global rand\n",
        "        rand = num_make()\n",
        "        answer[\"text\"] = \"あててみいや\"\n",
        "        hitgame_flg = True\n",
        "    elif \"ころな\" in message or 'コロナ' in message:\n",
        "        canvas.itemconfig(\"ai-bot\", image=img_list[0])\n",
        "        answer[\"text\"] = \"都道府県かいてみ\"\n",
        "        covid19_flg = True\n",
        "    else:\n",
        "        flg = func_control(message)\n",
        "        if flg:\n",
        "            pass\n",
        "        else:\n",
        "            canvas.itemconfig(\"ai-bot\", image=img_list[0])\n",
        "            answer[\"text\"] = 'がちゃがちゃうるせえ！'\n",
        "            window.update()\n",
        "            sleep(2)\n",
        "            canvas.itemconfig(\"ai-bot\", image=img_list[0])\n",
        "            answer[\"text\"] = \"話しかけられるのを待ってる。\"\n",
        "    "
      ],
      "execution_count": null,
      "outputs": []
    },
    {
      "cell_type": "code",
      "metadata": {
        "id": "gSWSFw1odCHL",
        "colab": {
          "base_uri": "https://localhost:8080/",
          "height": 389
        },
        "outputId": "364ff28d-c5b2-4887-814b-a294d7d9faf3"
      },
      "source": [
        "import tkinter\n",
        "import tkinter.font as font\n",
        "from time import sleep\n",
        "\n",
        "#ウィンドウ作成\n",
        "window = tkinter.Tk()\n",
        "window.title('AIボット')\n",
        "window.minsize(470,630)\n",
        "\n",
        "#フォントの設定\n",
        "window.option_add('*font',['MSゴシック',24])\n",
        "\n",
        "#画像表示\n",
        "canvas = tkinter.Canvas(bg='white',width=470,height=630)\n",
        "canvas.place(x=0,y=0)\n",
        "\n",
        "#フレーム画像の設定\n",
        "frame_img = tkinter.PhotoImage(file='images/tablet.png')\n",
        "canvas.create_image(235, 315, image=frame_img)\n",
        "\n",
        "\n",
        "#チャットボットイメージ画像の設定(png gif)\n",
        "img_list= []\n",
        "img_list.append(tkinter.PhotoImage(file='images/ai-normal.png'))\n",
        "img_list.append(tkinter.PhotoImage(file='images/ai-happy.png'))\n",
        "img_list.append(tkinter.PhotoImage(file='images/ai-anger.png'))\n",
        "canvas.create_image(235,280,image=img_list[0],tag='ai-bot')\n",
        "\n",
        "#ボタン\n",
        "askbutton = tkinter.Button(text=\"▲\" ,font=('',18))\n",
        "askbutton.place(x=386,y=511)\n",
        "\n",
        "#出力エリア\n",
        "canvas.create_rectangle(40,420,430,500,outline = 'pink',fill='white')\n",
        "answer_font = font.Font(window,family='HG創英角ﾎﾟｯﾌﾟ体',size=16)\n",
        "answer = tkinter.Label(text='なんかいえや',bg='white',font=answer_font)\n",
        "answer.place(x=50,y=430)\n",
        "\n",
        "#入力エリア\n",
        "inputarea = tkinter.Entry(width=21,bd=4)\n",
        "inputarea.place(x=34,y=511)\n",
        "\n",
        "#グローバル変数の定義\n",
        "calc_flg = False\n",
        "payroll_flg = False\n",
        "choice_word_flg = False\n",
        "hitgame_flg = False\n",
        "covid19_flg = False\n",
        "hitgame_cnt = 0\n",
        "rand = -1\n",
        "num_list = []\n",
        "\n",
        "#エンターキー押した\n",
        "def ask_enter(self):\n",
        "    ask_click()\n",
        "#ボタン押した\n",
        "def ask_click():\n",
        "    answer['text'] = 'connecting'\n",
        "    for num in range(3):\n",
        "        window.update()\n",
        "        answer.update()\n",
        "        answer['text'] += ','\n",
        "        sleep(0.5)\n",
        "    #入力欄の取得\n",
        "    message = inputarea.get()\n",
        "    #入力欄クリア\n",
        "    inputarea.delete(0,tkinter.END)\n",
        "    #出力エリアにメッセージ出力\n",
        "    chat_control(message)\n",
        "\n",
        "#ボタンに紐づけ\n",
        "askbutton['command'] = ask_click\n",
        "#リターンキー対応\n",
        "inputarea.bind('<Return>',ask_enter)\n",
        "\n",
        "#メインループ\n",
        "window.mainloop()"
      ],
      "execution_count": null,
      "outputs": [
        {
          "output_type": "error",
          "ename": "TclError",
          "evalue": "ignored",
          "traceback": [
            "\u001b[0;31m---------------------------------------------------------------------------\u001b[0m",
            "\u001b[0;31mTclError\u001b[0m                                  Traceback (most recent call last)",
            "\u001b[0;32m<ipython-input-9-94c4c0fef74f>\u001b[0m in \u001b[0;36m<module>\u001b[0;34m()\u001b[0m\n\u001b[1;32m      4\u001b[0m \u001b[0;34m\u001b[0m\u001b[0m\n\u001b[1;32m      5\u001b[0m \u001b[0;31m#ウィンドウ作成\u001b[0m\u001b[0;34m\u001b[0m\u001b[0;34m\u001b[0m\u001b[0;34m\u001b[0m\u001b[0m\n\u001b[0;32m----> 6\u001b[0;31m \u001b[0mwindow\u001b[0m \u001b[0;34m=\u001b[0m \u001b[0mtkinter\u001b[0m\u001b[0;34m.\u001b[0m\u001b[0mTk\u001b[0m\u001b[0;34m(\u001b[0m\u001b[0;34m)\u001b[0m\u001b[0;34m\u001b[0m\u001b[0;34m\u001b[0m\u001b[0m\n\u001b[0m\u001b[1;32m      7\u001b[0m \u001b[0mwindow\u001b[0m\u001b[0;34m.\u001b[0m\u001b[0mtitle\u001b[0m\u001b[0;34m(\u001b[0m\u001b[0;34m'AIボット'\u001b[0m\u001b[0;34m)\u001b[0m\u001b[0;34m\u001b[0m\u001b[0;34m\u001b[0m\u001b[0m\n\u001b[1;32m      8\u001b[0m \u001b[0mwindow\u001b[0m\u001b[0;34m.\u001b[0m\u001b[0mminsize\u001b[0m\u001b[0;34m(\u001b[0m\u001b[0;36m470\u001b[0m\u001b[0;34m,\u001b[0m\u001b[0;36m630\u001b[0m\u001b[0;34m)\u001b[0m\u001b[0;34m\u001b[0m\u001b[0;34m\u001b[0m\u001b[0m\n",
            "\u001b[0;32m/usr/lib/python3.7/tkinter/__init__.py\u001b[0m in \u001b[0;36m__init__\u001b[0;34m(self, screenName, baseName, className, useTk, sync, use)\u001b[0m\n\u001b[1;32m   2021\u001b[0m                 \u001b[0mbaseName\u001b[0m \u001b[0;34m=\u001b[0m \u001b[0mbaseName\u001b[0m \u001b[0;34m+\u001b[0m \u001b[0mext\u001b[0m\u001b[0;34m\u001b[0m\u001b[0;34m\u001b[0m\u001b[0m\n\u001b[1;32m   2022\u001b[0m         \u001b[0minteractive\u001b[0m \u001b[0;34m=\u001b[0m \u001b[0;36m0\u001b[0m\u001b[0;34m\u001b[0m\u001b[0;34m\u001b[0m\u001b[0m\n\u001b[0;32m-> 2023\u001b[0;31m         \u001b[0mself\u001b[0m\u001b[0;34m.\u001b[0m\u001b[0mtk\u001b[0m \u001b[0;34m=\u001b[0m \u001b[0m_tkinter\u001b[0m\u001b[0;34m.\u001b[0m\u001b[0mcreate\u001b[0m\u001b[0;34m(\u001b[0m\u001b[0mscreenName\u001b[0m\u001b[0;34m,\u001b[0m \u001b[0mbaseName\u001b[0m\u001b[0;34m,\u001b[0m \u001b[0mclassName\u001b[0m\u001b[0;34m,\u001b[0m \u001b[0minteractive\u001b[0m\u001b[0;34m,\u001b[0m \u001b[0mwantobjects\u001b[0m\u001b[0;34m,\u001b[0m \u001b[0museTk\u001b[0m\u001b[0;34m,\u001b[0m \u001b[0msync\u001b[0m\u001b[0;34m,\u001b[0m \u001b[0muse\u001b[0m\u001b[0;34m)\u001b[0m\u001b[0;34m\u001b[0m\u001b[0;34m\u001b[0m\u001b[0m\n\u001b[0m\u001b[1;32m   2024\u001b[0m         \u001b[0;32mif\u001b[0m \u001b[0museTk\u001b[0m\u001b[0;34m:\u001b[0m\u001b[0;34m\u001b[0m\u001b[0;34m\u001b[0m\u001b[0m\n\u001b[1;32m   2025\u001b[0m             \u001b[0mself\u001b[0m\u001b[0;34m.\u001b[0m\u001b[0m_loadtk\u001b[0m\u001b[0;34m(\u001b[0m\u001b[0;34m)\u001b[0m\u001b[0;34m\u001b[0m\u001b[0;34m\u001b[0m\u001b[0m\n",
            "\u001b[0;31mTclError\u001b[0m: no display name and no $DISPLAY environment variable"
          ]
        }
      ]
    },
    {
      "cell_type": "code",
      "metadata": {
        "id": "rHgTDl1VJ3i1"
      },
      "source": [
        ""
      ],
      "execution_count": null,
      "outputs": []
    },
    {
      "cell_type": "code",
      "metadata": {
        "id": "fyoJvpaOJ3i1"
      },
      "source": [
        ""
      ],
      "execution_count": null,
      "outputs": []
    }
  ]
}